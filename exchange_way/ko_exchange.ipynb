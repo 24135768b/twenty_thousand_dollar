{
 "cells": [
  {
   "cell_type": "code",
   "execution_count": null,
   "metadata": {},
   "outputs": [],
   "source": [
    "import pandas as pd\n",
    "import numpy as np\n",
    "import csv"
   ]
  },
  {
   "cell_type": "code",
   "execution_count": 2,
   "metadata": {},
   "outputs": [],
   "source": [
    "df = pd.read_csv(\"101.csv\")\n",
    "df.rename(columns={'Unnamed: 0': 'f','Unnamed: 1': 's','Unnamed: 2': 'w'}, inplace=True)\n",
    "db = df.groupby(['f', 's'])['w'].apply(list).to_dict()\n",
    "#print(db)"
   ]
  },
  {
   "cell_type": "code",
   "execution_count": 267,
   "metadata": {},
   "outputs": [
    {
     "name": "stdout",
     "output_type": "stream",
     "text": [
      "00000111001111010101001100010111110100110010110000110011010101110000011111000110011101101100010110001\n",
      "[-1, -1, -1, -1, -1, 1, 1, 1, -1, -1, 1, 1, 1, 1, -1, 1, -1, 1, -1, 1, -1, -1, 1, 1, -1, -1, -1, 1, -1, 1, 1, 1, 1, 1, -1, 1, -1, -1, 1, 1, -1, -1, 1, -1, 1, 1, -1, -1, -1, -1, 1, 1, -1, -1, 1, 1, -1, 1, -1, 1, -1, 1, 1, 1, -1, -1, -1, -1, -1, 1, 1, 1, 1, 1, -1, -1, -1, 1, 1, -1, -1, 1, 1, 1, -1, 1, 1, -1, 1, 1, -1, -1, -1, 1, -1, 1, 1, -1, -1, -1, 1]\n"
     ]
    },
    {
     "data": {
      "text/plain": [
       "707.5231000000014"
      ]
     },
     "execution_count": 267,
     "metadata": {},
     "output_type": "execute_result"
    }
   ],
   "source": [
    "path = 'KOans.txt'\n",
    "with open(path) as f:\n",
    "    KO_ans =  f.read()\n",
    "    KO_ans=KO_ans.replace(\" \",\"\")\n",
    "print(KO_ans)\n",
    "ans = list(map(int,KO_ans))\n",
    "\n",
    "for i in range(len(ans)):\n",
    "    if(ans[i] == 0):\n",
    "        ans[i] = -1\n",
    "print(ans)\n",
    "count_weight(ans)"
   ]
  },
  {
   "cell_type": "code",
   "execution_count": 230,
   "metadata": {},
   "outputs": [
    {
     "name": "stdout",
     "output_type": "stream",
     "text": [
      "AAAAABABAABAABABAAABAABBAABBABABBABBAAABAABABAAAAABBAABBBBABAAABAABBBBBBABABABBAABBBABBBAAABBBBBBAABA\n"
     ]
    },
    {
     "data": {
      "text/plain": [
       "617.5513000000013"
      ]
     },
     "execution_count": 230,
     "metadata": {},
     "output_type": "execute_result"
    }
   ],
   "source": [
    "path = 'ch.txt'\n",
    "with open(path) as f:\n",
    "    ch_ans =  f.read()\n",
    "    ch_ans=ch_ans.replace(\" \",\"\")\n",
    "print(ch_ans)\n",
    "ch_ans = list(ch_ans)\n",
    "\n",
    "for i in range(len(ch_ans)):\n",
    "    if(ch_ans[i] == 'B'):\n",
    "        ch_ans[i] = 1\n",
    "    if(ch_ans[i] == 'A'):\n",
    "        ch_ans[i] = -1\n",
    "\n",
    "count_weight(ch_ans)"
   ]
  },
  {
   "cell_type": "code",
   "execution_count": 211,
   "metadata": {},
   "outputs": [],
   "source": [
    "\n",
    "def count_weight(arr):\n",
    "    sum = 0\n",
    "    for i in range(len(arr)):\n",
    "      for j in range(i+1, len(arr)):\n",
    "          sum += arr[i]*arr[j]*(db[i+1,j+1][0])\n",
    "    \n",
    "    return sum"
   ]
  },
  {
   "cell_type": "code",
   "execution_count": 229,
   "metadata": {},
   "outputs": [],
   "source": [
    "def change_group(n,arr):\n",
    "    now_e = count_weight(arr)\n",
    "    next_e = 0\n",
    "    \n",
    "    for j in range(100):\n",
    "        for i in range(10000000):\n",
    "            c = np.random.randint(101,size=n)\n",
    "            flag = 0\n",
    "            for j in range(len(c)):\n",
    "                arr[c[j]]*=-1\n",
    "                \n",
    "            next_e = count_weight(arr)\n",
    "            if(next_e > now_e):\n",
    "                flag = 1\n",
    "                break\n",
    "            else:\n",
    "                for j in range(len(c)):\n",
    "                    arr[c[j]]*=-1\n",
    "        if(flag==0):\n",
    "            break\n",
    "          \n",
    "    return arr"
   ]
  },
  {
   "cell_type": "code",
   "execution_count": 269,
   "metadata": {},
   "outputs": [
    {
     "name": "stdout",
     "output_type": "stream",
     "text": [
      "707.5231000000014\n",
      "707.5231000000014\n",
      "707.5231000000014\n",
      "707.5231000000014\n",
      "707.5231000000014\n",
      "707.5231000000014\n",
      "707.5231000000014\n",
      "707.5231000000014\n",
      "707.5231000000014\n",
      "707.5231000000014\n",
      "707.5231000000014\n",
      "707.5231000000014\n",
      "707.5231000000014\n",
      "707.5231000000014\n",
      "707.5231000000014\n",
      "707.5231000000014\n",
      "707.5231000000014\n",
      "707.5231000000014\n",
      "707.5231000000014\n",
      "707.5231000000014\n",
      "707.5231000000014\n",
      "707.5231000000014\n",
      "707.5231000000014\n",
      "707.5231000000014\n",
      "707.5231000000014\n",
      "707.5231000000014\n",
      "707.5231000000014\n",
      "707.5231000000014\n",
      "707.5231000000014\n",
      "707.5231000000014\n",
      "707.5231000000014\n",
      "707.5231000000014\n",
      "707.5231000000014\n",
      "707.5231000000014\n",
      "707.5231000000014\n",
      "707.5231000000014\n",
      "707.5231000000014\n",
      "707.5231000000014\n",
      "707.5231000000014\n",
      "707.5231000000014\n",
      "707.5231000000014\n",
      "707.5231000000014\n",
      "707.5231000000014\n",
      "707.5231000000014\n",
      "707.5231000000014\n",
      "707.5231000000014\n",
      "707.5231000000014\n",
      "707.5231000000014\n",
      "707.5231000000014\n",
      "707.5231000000014\n",
      "707.5231000000014\n",
      "707.5231000000014\n",
      "707.5231000000014\n",
      "707.5231000000014\n",
      "707.5231000000014\n",
      "707.5231000000014\n",
      "707.5231000000014\n",
      "707.5231000000014\n",
      "707.5231000000014\n",
      "707.5231000000014\n",
      "707.5231000000014\n",
      "707.5231000000014\n",
      "707.5231000000014\n",
      "707.5231000000014\n",
      "707.5231000000014\n",
      "707.5231000000014\n",
      "707.5231000000014\n",
      "707.5231000000014\n",
      "707.5231000000014\n",
      "707.5231000000014\n",
      "707.5231000000014\n",
      "707.5231000000014\n",
      "707.5231000000014\n",
      "707.5231000000014\n",
      "707.5231000000014\n",
      "707.5231000000014\n",
      "707.5231000000014\n",
      "707.5231000000014\n",
      "707.5231000000014\n",
      "707.5231000000014\n",
      "707.5231000000014\n",
      "707.5231000000014\n",
      "707.5231000000014\n",
      "707.5231000000014\n",
      "707.5231000000014\n",
      "707.5231000000014\n",
      "707.5231000000014\n",
      "707.5231000000014\n",
      "707.5231000000014\n",
      "707.5231000000014\n",
      "707.5231000000014\n",
      "707.5231000000014\n",
      "707.5231000000014\n",
      "707.5231000000014\n",
      "707.5231000000014\n",
      "707.5231000000014\n",
      "707.5231000000014\n",
      "707.5231000000014\n",
      "707.5231000000014\n",
      "707.5231000000014\n",
      "707.5231000000014\n"
     ]
    }
   ],
   "source": [
    "max_ans = list(ans)\n",
    "max_e = count_weight(ans)\n",
    "for j in range(100000):\n",
    "    for i in range(101):\n",
    "        max_ans = list(change_group(i,ans))\n",
    "        tmp = count_weight(max_ans)\n",
    "        print(tmp)\n",
    "        if(tmp > max_e):\n",
    "            max_e = tmp\n",
    "    if(tmp == max_e):\n",
    "        break\n",
    "            "
   ]
  },
  {
   "cell_type": "code",
   "execution_count": 263,
   "metadata": {},
   "outputs": [
    {
     "data": {
      "text/plain": [
       "707.5231000000014"
      ]
     },
     "execution_count": 263,
     "metadata": {},
     "output_type": "execute_result"
    }
   ],
   "source": [
    "count_weight(max_ans)"
   ]
  },
  {
   "cell_type": "code",
   "execution_count": 262,
   "metadata": {},
   "outputs": [
    {
     "name": "stdout",
     "output_type": "stream",
     "text": [
      "[-1, -1, -1, -1, -1, 1, 1, 1, -1, -1, 1, 1, 1, 1, -1, 1, -1, 1, -1, 1, -1, -1, 1, 1, -1, -1, -1, 1, -1, 1, 1, 1, 1, 1, -1, 1, -1, -1, 1, 1, -1, -1, 1, -1, 1, 1, -1, -1, -1, -1, 1, 1, -1, -1, 1, 1, -1, 1, -1, 1, -1, 1, 1, 1, -1, -1, -1, -1, -1, 1, 1, 1, 1, 1, -1, -1, -1, 1, 1, -1, -1, 1, 1, 1, -1, 1, 1, -1, 1, 1, -1, -1, -1, 1, -1, 1, 1, -1, -1, -1, 1]\n"
     ]
    }
   ],
   "source": [
    "print(max_ans)\n",
    "kk = list(max_ans)"
   ]
  },
  {
   "cell_type": "code",
   "execution_count": 265,
   "metadata": {},
   "outputs": [],
   "source": [
    "for i in range(len(kk)):\n",
    "    if(kk[i] == -1):\n",
    "        kk[i] = 0\n",
    "        \n",
    "with open(\"KOans.txt\",'w') as f:\n",
    "    for item in kk:\n",
    "        f.write(str(item))\n",
    "        f.write(\" \")"
   ]
  },
  {
   "cell_type": "code",
   "execution_count": null,
   "metadata": {},
   "outputs": [],
   "source": []
  }
 ],
 "metadata": {
  "kernelspec": {
   "display_name": "Python 3.7.9 ('tutorial-env': venv)",
   "language": "python",
   "name": "python3"
  },
  "language_info": {
   "codemirror_mode": {
    "name": "ipython",
    "version": 3
   },
   "file_extension": ".py",
   "mimetype": "text/x-python",
   "name": "python",
   "nbconvert_exporter": "python",
   "pygments_lexer": "ipython3",
   "version": "3.7.9"
  },
  "orig_nbformat": 4,
  "vscode": {
   "interpreter": {
    "hash": "2de8acd86eed66c77cc1d21d2a271ce47ca69a1ebf8bf3f1f9ba36d398e16aa3"
   }
  }
 },
 "nbformat": 4,
 "nbformat_minor": 2
}
